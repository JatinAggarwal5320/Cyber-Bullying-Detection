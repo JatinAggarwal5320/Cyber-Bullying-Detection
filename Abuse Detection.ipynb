{
 "cells": [
  {
   "cell_type": "code",
   "execution_count": 1,
   "id": "2afe6717-708d-46a7-a265-b9e2e0ec51e3",
   "metadata": {},
   "outputs": [],
   "source": [
    "import pandas as pd\n",
    "import numpy as np\n",
    "import matplotlib.pyplot as plt\n",
    "import seaborn as sns\n",
    "plt.style.use(\"ggplot\")\n",
    "\n",
    "import re\n",
    "import nltk\n",
    "\n",
    "from sklearn.feature_extraction.text import TfidfVectorizer, TfidfTransformer, CountVectorizer\n",
    "from nltk import sent_tokenize, word_tokenize\n",
    "from sklearn.metrics import f1_score, accuracy_score, precision_score, recall_score, make_scorer\n",
    "\n",
    "from time import time\n",
    "import pickle"
   ]
  },
  {
   "cell_type": "code",
   "execution_count": 2,
   "id": "1daffce4-bf40-4f65-8d07-8e0f7c9e0aa5",
   "metadata": {},
   "outputs": [],
   "source": [
    "df = pd.read_csv(\"dataset.csv\")"
   ]
  },
  {
   "cell_type": "code",
   "execution_count": 3,
   "id": "73058d90-c987-4c43-bd7b-7ef0c3c3450a",
   "metadata": {},
   "outputs": [
    {
     "data": {
      "text/html": [
       "<div>\n",
       "<style scoped>\n",
       "    .dataframe tbody tr th:only-of-type {\n",
       "        vertical-align: middle;\n",
       "    }\n",
       "\n",
       "    .dataframe tbody tr th {\n",
       "        vertical-align: top;\n",
       "    }\n",
       "\n",
       "    .dataframe thead th {\n",
       "        text-align: right;\n",
       "    }\n",
       "</style>\n",
       "<table border=\"1\" class=\"dataframe\">\n",
       "  <thead>\n",
       "    <tr style=\"text-align: right;\">\n",
       "      <th></th>\n",
       "      <th>headline</th>\n",
       "      <th>label</th>\n",
       "    </tr>\n",
       "  </thead>\n",
       "  <tbody>\n",
       "    <tr>\n",
       "      <th>0</th>\n",
       "      <td>cock  suck before you piss around on my work</td>\n",
       "      <td>-1</td>\n",
       "    </tr>\n",
       "    <tr>\n",
       "      <th>1</th>\n",
       "      <td>you are  gay or antisemmitian archangel white ...</td>\n",
       "      <td>-1</td>\n",
       "    </tr>\n",
       "    <tr>\n",
       "      <th>2</th>\n",
       "      <td>fuck your filthy mother in the ass  dry</td>\n",
       "      <td>-1</td>\n",
       "    </tr>\n",
       "    <tr>\n",
       "      <th>3</th>\n",
       "      <td>get fuck  ed up  get fuck  ed up got a drink t...</td>\n",
       "      <td>-1</td>\n",
       "    </tr>\n",
       "    <tr>\n",
       "      <th>4</th>\n",
       "      <td>stupid peace of  shit  stop deleting my stuff ...</td>\n",
       "      <td>-1</td>\n",
       "    </tr>\n",
       "  </tbody>\n",
       "</table>\n",
       "</div>"
      ],
      "text/plain": [
       "                                            headline  label\n",
       "0       cock  suck before you piss around on my work     -1\n",
       "1  you are  gay or antisemmitian archangel white ...     -1\n",
       "2            fuck your filthy mother in the ass  dry     -1\n",
       "3  get fuck  ed up  get fuck  ed up got a drink t...     -1\n",
       "4  stupid peace of  shit  stop deleting my stuff ...     -1"
      ]
     },
     "execution_count": 3,
     "metadata": {},
     "output_type": "execute_result"
    }
   ],
   "source": [
    "df.head()"
   ]
  },
  {
   "cell_type": "code",
   "execution_count": 4,
   "id": "4de7cb8c-2a9e-4180-b49e-4c0a7f7d2f2a",
   "metadata": {},
   "outputs": [
    {
     "data": {
      "text/plain": [
       "array([-1,  0])"
      ]
     },
     "execution_count": 4,
     "metadata": {},
     "output_type": "execute_result"
    }
   ],
   "source": [
    "df['label'].unique()"
   ]
  },
  {
   "cell_type": "code",
   "execution_count": 5,
   "id": "5766c09b-66b6-477d-980e-0f5a33dda169",
   "metadata": {},
   "outputs": [],
   "source": [
    "#Dataframe Manipulation\n",
    "def perform_data_manipulation():\n",
    "    df = pd.read_csv(\"dataset.csv\")\n",
    "\n",
    "    for index in df.index:\n",
    "        if df.loc[index, \"label\"]==-1:\n",
    "            df.loc[index,\"label\"] = 1\n",
    "    return df"
   ]
  },
  {
   "cell_type": "code",
   "execution_count": 6,
   "id": "d1acbdef-3080-4418-a7fb-dfbc1d8fb335",
   "metadata": {},
   "outputs": [],
   "source": [
    "df = perform_data_manipulation()"
   ]
  },
  {
   "cell_type": "code",
   "execution_count": 7,
   "id": "4364d231-57bd-42ed-8a34-ef93bd7bf8ef",
   "metadata": {},
   "outputs": [
    {
     "data": {
      "text/html": [
       "<div>\n",
       "<style scoped>\n",
       "    .dataframe tbody tr th:only-of-type {\n",
       "        vertical-align: middle;\n",
       "    }\n",
       "\n",
       "    .dataframe tbody tr th {\n",
       "        vertical-align: top;\n",
       "    }\n",
       "\n",
       "    .dataframe thead th {\n",
       "        text-align: right;\n",
       "    }\n",
       "</style>\n",
       "<table border=\"1\" class=\"dataframe\">\n",
       "  <thead>\n",
       "    <tr style=\"text-align: right;\">\n",
       "      <th></th>\n",
       "      <th>headline</th>\n",
       "      <th>label</th>\n",
       "    </tr>\n",
       "  </thead>\n",
       "  <tbody>\n",
       "    <tr>\n",
       "      <th>0</th>\n",
       "      <td>cock  suck before you piss around on my work</td>\n",
       "      <td>1</td>\n",
       "    </tr>\n",
       "    <tr>\n",
       "      <th>1</th>\n",
       "      <td>you are  gay or antisemmitian archangel white ...</td>\n",
       "      <td>1</td>\n",
       "    </tr>\n",
       "    <tr>\n",
       "      <th>2</th>\n",
       "      <td>fuck your filthy mother in the ass  dry</td>\n",
       "      <td>1</td>\n",
       "    </tr>\n",
       "    <tr>\n",
       "      <th>3</th>\n",
       "      <td>get fuck  ed up  get fuck  ed up got a drink t...</td>\n",
       "      <td>1</td>\n",
       "    </tr>\n",
       "    <tr>\n",
       "      <th>4</th>\n",
       "      <td>stupid peace of  shit  stop deleting my stuff ...</td>\n",
       "      <td>1</td>\n",
       "    </tr>\n",
       "  </tbody>\n",
       "</table>\n",
       "</div>"
      ],
      "text/plain": [
       "                                            headline  label\n",
       "0       cock  suck before you piss around on my work      1\n",
       "1  you are  gay or antisemmitian archangel white ...      1\n",
       "2            fuck your filthy mother in the ass  dry      1\n",
       "3  get fuck  ed up  get fuck  ed up got a drink t...      1\n",
       "4  stupid peace of  shit  stop deleting my stuff ...      1"
      ]
     },
     "execution_count": 7,
     "metadata": {},
     "output_type": "execute_result"
    }
   ],
   "source": [
    "df.head()"
   ]
  },
  {
   "cell_type": "code",
   "execution_count": 8,
   "id": "72b3f9fb-7619-4380-8a41-2e4c204b0fc5",
   "metadata": {},
   "outputs": [],
   "source": [
    "def performdatadistribution(df):\n",
    "    total = df.shape[0]\n",
    "    num_non_toxic = df[df['label']==0].shape[0]\n",
    "\n",
    "    slices = [num_non_toxic/total, (total-num_non_toxic)/total]\n",
    "    labeling = ['Non-Toxic', 'Toxic']\n",
    "    explode = [0.2, 0]\n",
    "\n",
    "    plt.pie(slices, explode=explode, shadow=True, autopct=\"%1.1f%%\", \n",
    "            labels=labeling, wedgeprops={'edgecolor': 'black'})\n",
    "    plt.show()"
   ]
  },
  {
   "cell_type": "code",
   "execution_count": 9,
   "id": "e118a091-925f-4365-8f5c-b295abb6bcbc",
   "metadata": {},
   "outputs": [
    {
     "data": {
      "image/png": "[encoded data removed]",
      "text/plain": [
       "<Figure size 640x480 with 1 Axes>"
      ]
     },
     "metadata": {},
     "output_type": "display_data"
    }
   ],
   "source": [
    "performdatadistribution(df)"
   ]
  },
  {
   "cell_type": "code",
   "execution_count": 10,
   "id": "74f9518c-d73b-4966-ae33-826c8f438be1",
   "metadata": {},
   "outputs": [],
   "source": [
    "def remove_pattern(input_txt, pattern):\n",
    "    if (type(input_txt)==str):\n",
    "        r = re.findall(pattern, input_txt)\n",
    "        for i in r:\n",
    "            input_txt = re.sub(i, '', input_txt)\n",
    "        return input_txt\n",
    "    else:\n",
    "        return \"\""
   ]
  },
  {
   "cell_type": "code",
   "execution_count": 11,
   "id": "cdcc67f4-de60-4582-9f3c-ad91d261e5c9",
   "metadata": {},
   "outputs": [
    {
     "data": {
      "text/html": [
       "<div>\n",
       "<style scoped>\n",
       "    .dataframe tbody tr th:only-of-type {\n",
       "        vertical-align: middle;\n",
       "    }\n",
       "\n",
       "    .dataframe tbody tr th {\n",
       "        vertical-align: top;\n",
       "    }\n",
       "\n",
       "    .dataframe thead th {\n",
       "        text-align: right;\n",
       "    }\n",
       "</style>\n",
       "<table border=\"1\" class=\"dataframe\">\n",
       "  <thead>\n",
       "    <tr style=\"text-align: right;\">\n",
       "      <th></th>\n",
       "      <th>headline</th>\n",
       "      <th>label</th>\n",
       "    </tr>\n",
       "  </thead>\n",
       "  <tbody>\n",
       "    <tr>\n",
       "      <th>0</th>\n",
       "      <td>cock  suck before you piss around on my work</td>\n",
       "      <td>1</td>\n",
       "    </tr>\n",
       "  </tbody>\n",
       "</table>\n",
       "</div>"
      ],
      "text/plain": [
       "                                       headline  label\n",
       "0  cock  suck before you piss around on my work      1"
      ]
     },
     "execution_count": 11,
     "metadata": {},
     "output_type": "execute_result"
    }
   ],
   "source": [
    "df.head(1)"
   ]
  },
  {
   "cell_type": "code",
   "execution_count": 12,
   "id": "0661e183-6c5e-447c-a571-0db24179f794",
   "metadata": {},
   "outputs": [],
   "source": [
    "def datasetCleaning(df):\n",
    "    # SSL fix for NLTK download\n",
    "    import ssl\n",
    "    try:\n",
    "        _create_unverified_https_context = ssl._create_unverified_context\n",
    "    except AttributeError:\n",
    "        pass\n",
    "    else:\n",
    "        ssl._create_default_https_context = _create_unverified_https_context\n",
    "    nltk.download('wordnet', quiet=True)\n",
    "\n",
    "    df['length_headline'] = df['headline'].str.len()\n",
    "    combined_df = pd.concat([df, df], ignore_index=True)\n",
    "    \n",
    "    combined_df['tidy_tweet'] = np.vectorize(remove_pattern)(combined_df['headline'], \"@[\\w]*\")\n",
    "    combined_df['tidy_tweet'] = combined_df['tidy_tweet'].str.replace(\"[^a-zA-Z#]\", \" \")\n",
    "    combined_df['tidy_tweet'] = combined_df['tidy_tweet'].apply(\n",
    "        lambda x: ' '.join([w for w in x.split() if len(w) > 3]))\n",
    "    \n",
    "    combined_df['length_tidy_tweet'] = combined_df['tidy_tweet'].str.len()\n",
    "    tokenized_tweet = combined_df['tidy_tweet'].apply(lambda x: x.split())\n",
    "    \n",
    "    lemmatizer = nltk.stem.WordNetLemmatizer()\n",
    "    tokenized_tweet = tokenized_tweet.apply(\n",
    "        lambda x: [lemmatizer.lemmatize(i) for i in x])\n",
    "    \n",
    "    combined_df['tidy_tweet'] = tokenized_tweet.apply(' '.join)\n",
    "    return combined_df, df"
   ]
  },
  {
   "cell_type": "code",
   "execution_count": 13,
   "id": "09334323-590a-4021-b4f4-9e3dd1f00ae9",
   "metadata": {},
   "outputs": [],
   "source": [
    "combined_df, df= datasetCleaning(df)"
   ]
  },
  {
   "cell_type": "code",
   "execution_count": 14,
   "id": "db977f85-cae9-4a91-aef3-3c65045a708c",
   "metadata": {},
   "outputs": [
    {
     "data": {
      "text/html": [
       "<div>\n",
       "<style scoped>\n",
       "    .dataframe tbody tr th:only-of-type {\n",
       "        vertical-align: middle;\n",
       "    }\n",
       "\n",
       "    .dataframe tbody tr th {\n",
       "        vertical-align: top;\n",
       "    }\n",
       "\n",
       "    .dataframe thead th {\n",
       "        text-align: right;\n",
       "    }\n",
       "</style>\n",
       "<table border=\"1\" class=\"dataframe\">\n",
       "  <thead>\n",
       "    <tr style=\"text-align: right;\">\n",
       "      <th></th>\n",
       "      <th>headline</th>\n",
       "      <th>label</th>\n",
       "      <th>length_headline</th>\n",
       "      <th>tidy_tweet</th>\n",
       "      <th>length_tidy_tweet</th>\n",
       "    </tr>\n",
       "  </thead>\n",
       "  <tbody>\n",
       "    <tr>\n",
       "      <th>0</th>\n",
       "      <td>cock  suck before you piss around on my work</td>\n",
       "      <td>1</td>\n",
       "      <td>44</td>\n",
       "      <td>cock suck before piss around work</td>\n",
       "      <td>33</td>\n",
       "    </tr>\n",
       "    <tr>\n",
       "      <th>1</th>\n",
       "      <td>you are  gay or antisemmitian archangel white ...</td>\n",
       "      <td>1</td>\n",
       "      <td>624</td>\n",
       "      <td>antisemmitian archangel white tiger meow greet...</td>\n",
       "      <td>400</td>\n",
       "    </tr>\n",
       "    <tr>\n",
       "      <th>2</th>\n",
       "      <td>fuck your filthy mother in the ass  dry</td>\n",
       "      <td>1</td>\n",
       "      <td>39</td>\n",
       "      <td>fuck your filthy mother</td>\n",
       "      <td>23</td>\n",
       "    </tr>\n",
       "    <tr>\n",
       "      <th>3</th>\n",
       "      <td>get fuck  ed up  get fuck  ed up got a drink t...</td>\n",
       "      <td>1</td>\n",
       "      <td>121</td>\n",
       "      <td>fuck fuck drink that cant down fuck fuck fuck ...</td>\n",
       "      <td>51</td>\n",
       "    </tr>\n",
       "    <tr>\n",
       "      <th>4</th>\n",
       "      <td>stupid peace of  shit  stop deleting my stuff ...</td>\n",
       "      <td>1</td>\n",
       "      <td>93</td>\n",
       "      <td>stupid peace shit stop deleting stuff hole fal...</td>\n",
       "      <td>57</td>\n",
       "    </tr>\n",
       "  </tbody>\n",
       "</table>\n",
       "</div>"
      ],
      "text/plain": [
       "                                            headline  label  length_headline  \\\n",
       "0       cock  suck before you piss around on my work      1               44   \n",
       "1  you are  gay or antisemmitian archangel white ...      1              624   \n",
       "2            fuck your filthy mother in the ass  dry      1               39   \n",
       "3  get fuck  ed up  get fuck  ed up got a drink t...      1              121   \n",
       "4  stupid peace of  shit  stop deleting my stuff ...      1               93   \n",
       "\n",
       "                                          tidy_tweet  length_tidy_tweet  \n",
       "0                  cock suck before piss around work                 33  \n",
       "1  antisemmitian archangel white tiger meow greet...                400  \n",
       "2                            fuck your filthy mother                 23  \n",
       "3  fuck fuck drink that cant down fuck fuck fuck ...                 51  \n",
       "4  stupid peace shit stop deleting stuff hole fal...                 57  "
      ]
     },
     "execution_count": 14,
     "metadata": {},
     "output_type": "execute_result"
    }
   ],
   "source": [
    "combined_df.head()\n"
   ]
  },
  {
   "cell_type": "code",
   "execution_count": 20,
   "id": "4c1cec2f-6374-4596-82a1-d2584a5c50d7",
   "metadata": {},
   "outputs": [],
   "source": [
    "from sklearn.model_selection import train_test_split\n",
    "from sklearn.svm import LinearSVC\n",
    "from sklearn.linear_model import LogisticRegression, SGDClassifier\n",
    "from sklearn.naive_bayes import MultinomialNB\n",
    "from sklearn.tree import DecisionTreeClassifier\n",
    "from sklearn.ensemble import AdaBoostClassifier, BaggingClassifier\n"
   ]
  },
  {
   "cell_type": "code",
   "execution_count": 21,
   "id": "24625adb-6482-4064-a1b8-b88e7ceca221",
   "metadata": {},
   "outputs": [],
   "source": [
    "def performdatasplit(x, y, combined_df, df):\n",
    "    X_train, X_test, y_train, y_test = train_test_split(combined_df['tidy_tweet'], combined_df['label'], test_size = x, random_state = y)\n",
    "    print(f\"Number of rows in the total dataset: {combined_df.shape[0]}\")\n",
    "    print(f\"Number of rows in the train dataset: {X_train.shape[0]}\")\n",
    "    print(f\"Number of rows in the test dataset: {X_test.shape[0]}\")\n",
    "    \n",
    "    files = open(\"stopwords.txt\" , \"r\")\n",
    "    content = files.read()\n",
    "    content_list = content.split(\"\\n\")\n",
    "    files.close()\n",
    "    \n",
    "    tfidfvector = TfidfVectorizer(stop_words=content_list, lowercase=True)\n",
    "    \n",
    "    training_data = tfidfvector.fit_transform(X_train.values.astype('U'))\n",
    "    \n",
    "    testing_data = tfidfvector.transform(X_test.values.astype('U'))\n",
    "    \n",
    "    filename = 'tfidfvectoizer.pkl'\n",
    "    \n",
    "    pickle.dump(tfidfvector.vocabulary_, open(filename, 'wb'))\n",
    "    \n",
    "    return X_train , X_test, y_train, y_test, testing_data, filename, training_data, content_list"
   ]
  },
  {
   "cell_type": "code",
   "execution_count": 22,
   "id": "cff29e84-4081-46f8-b0c9-38c7cc6eea6b",
   "metadata": {},
   "outputs": [
    {
     "name": "stdout",
     "output_type": "stream",
     "text": [
      "Number of rows in the total dataset: 36296\n",
      "Number of rows in the train dataset: 29036\n",
      "Number of rows in the test dataset: 7260\n"
     ]
    }
   ],
   "source": [
    "X_train , X_test, y_train, y_test, testing_data, filename, training_data, content_list = performdatasplit(0.2, 42, combined_df, df)"
   ]
  },
  {
   "cell_type": "code",
   "execution_count": 23,
   "id": "d1e65c3e-ede4-46d6-bdc4-c77f0d3e4943",
   "metadata": {},
   "outputs": [],
   "source": [
    "def pipeline(X_train, y_train, X_test, y_test):\n",
    "    MODELS = [LinearSVC(), LogisticRegression(), MultinomialNB(), DecisionTreeClassifier(),\n",
    "              AdaBoostClassifier(), BaggingClassifier(), SGDClassifier()]\n",
    "    \n",
    "    size = len(y_train)\n",
    "    \n",
    "    results = {}\n",
    "    \n",
    "    final_result = []\n",
    "    \n",
    "    for model in MODELS:\n",
    "        results['Algorithm'] = model.__class__.__name__\n",
    "        \n",
    "        start = time()\n",
    "        print(f\"Training Time : {model.__class__.__name__}\")\n",
    "        model.fit(X_train, y_train)\n",
    "        end = time()\n",
    "        \n",
    "        filename = model.__class__.__name__+\".pkl\"\n",
    "        pickle.dump(model, open(filename, \"wb\"))\n",
    "        \n",
    "        results['Training Time'] = end - start\n",
    "        \n",
    "        start = time()\n",
    "        prediction_test = model.predict(X_test)\n",
    "        prediction_train = model.predict(X_train)\n",
    "        end = time()\n",
    "        \n",
    "        results['Prediction Time'] = end - start\n",
    "        \n",
    "        results['Accuracy : Test'] = accuracy_score(y_test, prediction_test)\n",
    "        results['Accuracy : Train'] = accuracy_score(y_train, prediction_train)\n",
    "        \n",
    "        results['F1 Score : Test'] = f1_score(y_test, prediction_test)\n",
    "        results['F1 Score : Train'] = f1_score(y_train, prediction_train)\n",
    "        \n",
    "        results['Precision : Test'] = precision_score(y_test, prediction_test)\n",
    "        results['Precision : Train'] = precision_score(y_train, prediction_train)\n",
    "        \n",
    "        results['Recall : Test'] = recall_score(y_test, prediction_test)\n",
    "        results['Recall : Train'] = recall_score(y_train, prediction_train)\n",
    "        \n",
    "        print(f\"Training {model.__class__.__name__} finished in {results['Training Time']} sec\")\n",
    "        \n",
    "        final_result.append(results.copy())\n",
    "    return final_result\n",
    "    "
   ]
  },
  {
   "cell_type": "code",
   "execution_count": 24,
   "id": "57728da7-4209-4ba1-8cdd-3b3f7d81440a",
   "metadata": {},
   "outputs": [
    {
     "name": "stdout",
     "output_type": "stream",
     "text": [
      "Training Time : LinearSVC\n",
      "Training LinearSVC finished in 0.3099038600921631 sec\n",
      "Training Time : LogisticRegression\n",
      "Training LogisticRegression finished in 0.36504173278808594 sec\n",
      "Training Time : MultinomialNB\n",
      "Training MultinomialNB finished in 0.01328587532043457 sec\n",
      "Training Time : DecisionTreeClassifier\n",
      "Training DecisionTreeClassifier finished in 6.518229961395264 sec\n",
      "Training Time : AdaBoostClassifier\n",
      "Training AdaBoostClassifier finished in 4.914675951004028 sec\n",
      "Training Time : BaggingClassifier\n",
      "Training BaggingClassifier finished in 94.01867699623108 sec\n",
      "Training Time : SGDClassifier\n",
      "Training SGDClassifier finished in 0.07664680480957031 sec\n"
     ]
    }
   ],
   "source": [
    "final_result = pipeline(training_data, y_train, testing_data, y_test)"
   ]
  },
  {
   "cell_type": "code",
   "execution_count": 25,
   "id": "c013403f-4120-4242-855c-50951ce09777",
   "metadata": {},
   "outputs": [],
   "source": [
    "def performfinalresult(final_results):\n",
    "    results = pd.DataFrame(final_results)\n",
    "    results.reindex(columns = ['Algorithm' , 'Accuracy : Test', 'Precision : Test' , 'Recall : Test' , 'F1 Score : Test' , 'Prediction Time',\n",
    "                                'Accuracy : Train' , 'Precision : Train' , ' Recall : Train' , 'F1 Score : Train' , 'Training Time'])\n",
    "    results.sort_values(by = 'F1 Score : Test' , inplace = True , ascending=False)\n",
    "    return results"
   ]
  },
  {
   "cell_type": "code",
   "execution_count": 32,
   "id": "9927ce0b-f84c-418f-801b-23690417518a",
   "metadata": {},
   "outputs": [
    {
     "data": {
      "text/html": [
       "<div>\n",
       "<style scoped>\n",
       "    .dataframe tbody tr th:only-of-type {\n",
       "        vertical-align: middle;\n",
       "    }\n",
       "\n",
       "    .dataframe tbody tr th {\n",
       "        vertical-align: top;\n",
       "    }\n",
       "\n",
       "    .dataframe thead th {\n",
       "        text-align: right;\n",
       "    }\n",
       "</style>\n",
       "<table border=\"1\" class=\"dataframe\">\n",
       "  <thead>\n",
       "    <tr style=\"text-align: right;\">\n",
       "      <th></th>\n",
       "      <th>Algorithm</th>\n",
       "      <th>Training Time</th>\n",
       "      <th>Prediction Time</th>\n",
       "      <th>Accuracy : Test</th>\n",
       "      <th>Accuracy : Train</th>\n",
       "      <th>F1 Score : Test</th>\n",
       "      <th>F1 Score : Train</th>\n",
       "      <th>Precision : Test</th>\n",
       "      <th>Precision : Train</th>\n",
       "      <th>Recall : Test</th>\n",
       "      <th>Recall : Train</th>\n",
       "    </tr>\n",
       "  </thead>\n",
       "  <tbody>\n",
       "    <tr>\n",
       "      <th>0</th>\n",
       "      <td>DecisionTreeClassifier</td>\n",
       "      <td>6.518230</td>\n",
       "      <td>0.044242</td>\n",
       "      <td>0.973829</td>\n",
       "      <td>0.996832</td>\n",
       "      <td>0.979932</td>\n",
       "      <td>0.997534</td>\n",
       "      <td>0.971518</td>\n",
       "      <td>0.996146</td>\n",
       "      <td>0.988494</td>\n",
       "      <td>0.998926</td>\n",
       "    </tr>\n",
       "    <tr>\n",
       "      <th>1</th>\n",
       "      <td>BaggingClassifier</td>\n",
       "      <td>94.018677</td>\n",
       "      <td>0.506179</td>\n",
       "      <td>0.969559</td>\n",
       "      <td>0.995144</td>\n",
       "      <td>0.976527</td>\n",
       "      <td>0.996220</td>\n",
       "      <td>0.973528</td>\n",
       "      <td>0.995126</td>\n",
       "      <td>0.979544</td>\n",
       "      <td>0.997316</td>\n",
       "    </tr>\n",
       "    <tr>\n",
       "      <th>2</th>\n",
       "      <td>LinearSVC</td>\n",
       "      <td>0.309904</td>\n",
       "      <td>0.002669</td>\n",
       "      <td>0.964738</td>\n",
       "      <td>0.989048</td>\n",
       "      <td>0.972690</td>\n",
       "      <td>0.991459</td>\n",
       "      <td>0.973937</td>\n",
       "      <td>0.992152</td>\n",
       "      <td>0.971447</td>\n",
       "      <td>0.990767</td>\n",
       "    </tr>\n",
       "    <tr>\n",
       "      <th>3</th>\n",
       "      <td>LogisticRegression</td>\n",
       "      <td>0.365042</td>\n",
       "      <td>0.003772</td>\n",
       "      <td>0.936364</td>\n",
       "      <td>0.961152</td>\n",
       "      <td>0.950514</td>\n",
       "      <td>0.969637</td>\n",
       "      <td>0.955632</td>\n",
       "      <td>0.972464</td>\n",
       "      <td>0.945451</td>\n",
       "      <td>0.966826</td>\n",
       "    </tr>\n",
       "    <tr>\n",
       "      <th>4</th>\n",
       "      <td>SGDClassifier</td>\n",
       "      <td>0.076647</td>\n",
       "      <td>0.002820</td>\n",
       "      <td>0.935537</td>\n",
       "      <td>0.957845</td>\n",
       "      <td>0.949602</td>\n",
       "      <td>0.966939</td>\n",
       "      <td>0.959939</td>\n",
       "      <td>0.973142</td>\n",
       "      <td>0.939484</td>\n",
       "      <td>0.960814</td>\n",
       "    </tr>\n",
       "    <tr>\n",
       "      <th>5</th>\n",
       "      <td>MultinomialNB</td>\n",
       "      <td>0.013286</td>\n",
       "      <td>0.004795</td>\n",
       "      <td>0.899174</td>\n",
       "      <td>0.927676</td>\n",
       "      <td>0.925428</td>\n",
       "      <td>0.945438</td>\n",
       "      <td>0.886590</td>\n",
       "      <td>0.916159</td>\n",
       "      <td>0.967824</td>\n",
       "      <td>0.976649</td>\n",
       "    </tr>\n",
       "    <tr>\n",
       "      <th>6</th>\n",
       "      <td>AdaBoostClassifier</td>\n",
       "      <td>4.914676</td>\n",
       "      <td>1.380379</td>\n",
       "      <td>0.767355</td>\n",
       "      <td>0.765705</td>\n",
       "      <td>0.842606</td>\n",
       "      <td>0.840339</td>\n",
       "      <td>0.748758</td>\n",
       "      <td>0.746580</td>\n",
       "      <td>0.963350</td>\n",
       "      <td>0.961029</td>\n",
       "    </tr>\n",
       "  </tbody>\n",
       "</table>\n",
       "</div>"
      ],
      "text/plain": [
       "                Algorithm  Training Time  Prediction Time  Accuracy : Test  \\\n",
       "0  DecisionTreeClassifier       6.518230         0.044242         0.973829   \n",
       "1       BaggingClassifier      94.018677         0.506179         0.969559   \n",
       "2               LinearSVC       0.309904         0.002669         0.964738   \n",
       "3      LogisticRegression       0.365042         0.003772         0.936364   \n",
       "4           SGDClassifier       0.076647         0.002820         0.935537   \n",
       "5           MultinomialNB       0.013286         0.004795         0.899174   \n",
       "6      AdaBoostClassifier       4.914676         1.380379         0.767355   \n",
       "\n",
       "   Accuracy : Train  F1 Score : Test  F1 Score : Train  Precision : Test  \\\n",
       "0          0.996832         0.979932          0.997534          0.971518   \n",
       "1          0.995144         0.976527          0.996220          0.973528   \n",
       "2          0.989048         0.972690          0.991459          0.973937   \n",
       "3          0.961152         0.950514          0.969637          0.955632   \n",
       "4          0.957845         0.949602          0.966939          0.959939   \n",
       "5          0.927676         0.925428          0.945438          0.886590   \n",
       "6          0.765705         0.842606          0.840339          0.748758   \n",
       "\n",
       "   Precision : Train  Recall : Test  Recall : Train  \n",
       "0           0.996146       0.988494        0.998926  \n",
       "1           0.995126       0.979544        0.997316  \n",
       "2           0.992152       0.971447        0.990767  \n",
       "3           0.972464       0.945451        0.966826  \n",
       "4           0.973142       0.939484        0.960814  \n",
       "5           0.916159       0.967824        0.976649  \n",
       "6           0.746580       0.963350        0.961029  "
      ]
     },
     "execution_count": 32,
     "metadata": {},
     "output_type": "execute_result"
    }
   ],
   "source": [
    "results = performfinalresult(final_result)\n",
    "results.reset_index(drop=True)"
   ]
  },
  {
   "cell_type": "code",
   "execution_count": 33,
   "id": "f95fba5e-5c59-4dcf-b4c2-c10ba67c044f",
   "metadata": {},
   "outputs": [
    {
     "data": {
      "text/html": [
       "<div>\n",
       "<style scoped>\n",
       "    .dataframe tbody tr th:only-of-type {\n",
       "        vertical-align: middle;\n",
       "    }\n",
       "\n",
       "    .dataframe tbody tr th {\n",
       "        vertical-align: top;\n",
       "    }\n",
       "\n",
       "    .dataframe thead th {\n",
       "        text-align: right;\n",
       "    }\n",
       "</style>\n",
       "<table border=\"1\" class=\"dataframe\">\n",
       "  <thead>\n",
       "    <tr style=\"text-align: right;\">\n",
       "      <th></th>\n",
       "      <th>Training Time</th>\n",
       "      <th>Prediction Time</th>\n",
       "      <th>Accuracy : Test</th>\n",
       "      <th>Accuracy : Train</th>\n",
       "      <th>F1 Score : Test</th>\n",
       "      <th>F1 Score : Train</th>\n",
       "      <th>Precision : Test</th>\n",
       "      <th>Precision : Train</th>\n",
       "      <th>Recall : Test</th>\n",
       "      <th>Recall : Train</th>\n",
       "    </tr>\n",
       "  </thead>\n",
       "  <tbody>\n",
       "    <tr>\n",
       "      <th>min</th>\n",
       "      <td>0.013286</td>\n",
       "      <td>0.002669</td>\n",
       "      <td>0.767355</td>\n",
       "      <td>0.765705</td>\n",
       "      <td>0.842606</td>\n",
       "      <td>0.840339</td>\n",
       "      <td>0.748758</td>\n",
       "      <td>0.746580</td>\n",
       "      <td>0.939484</td>\n",
       "      <td>0.960814</td>\n",
       "    </tr>\n",
       "    <tr>\n",
       "      <th>max</th>\n",
       "      <td>94.018677</td>\n",
       "      <td>1.380379</td>\n",
       "      <td>0.973829</td>\n",
       "      <td>0.996832</td>\n",
       "      <td>0.979932</td>\n",
       "      <td>0.997534</td>\n",
       "      <td>0.973937</td>\n",
       "      <td>0.996146</td>\n",
       "      <td>0.988494</td>\n",
       "      <td>0.998926</td>\n",
       "    </tr>\n",
       "  </tbody>\n",
       "</table>\n",
       "</div>"
      ],
      "text/plain": [
       "     Training Time  Prediction Time  Accuracy : Test  Accuracy : Train  \\\n",
       "min       0.013286         0.002669         0.767355          0.765705   \n",
       "max      94.018677         1.380379         0.973829          0.996832   \n",
       "\n",
       "     F1 Score : Test  F1 Score : Train  Precision : Test  Precision : Train  \\\n",
       "min         0.842606          0.840339          0.748758           0.746580   \n",
       "max         0.979932          0.997534          0.973937           0.996146   \n",
       "\n",
       "     Recall : Test  Recall : Train  \n",
       "min       0.939484        0.960814  \n",
       "max       0.988494        0.998926  "
      ]
     },
     "execution_count": 33,
     "metadata": {},
     "output_type": "execute_result"
    }
   ],
   "source": [
    "results.describe().loc[['min','max'], :]"
   ]
  },
  {
   "cell_type": "code",
   "execution_count": 35,
   "id": "32770555-58d9-4cce-aa70-86c4ad6d82b8",
   "metadata": {},
   "outputs": [
    {
     "data": {
      "image/png": "[encoded data removed]",
      "text/plain": [
       "<Figure size 1500x600 with 1 Axes>"
      ]
     },
     "metadata": {},
     "output_type": "display_data"
    }
   ],
   "source": [
    "# Find best models by metrics\n",
    "best_acc = results[results['Accuracy : Test'] == results['Accuracy : Test'].max()]\n",
    "best_f1 = results[results['F1 Score : Test'] == results['F1 Score : Test'].max()]\n",
    "best_precision = results[results['Precision : Test'] == results['Precision : Test'].max()]\n",
    "best_recall = results[results['Recall : Test'] == results['Recall : Test'].max()]\n",
    "\n",
    "# Plot settings\n",
    "sns.set_style('darkgrid')\n",
    "plt.figure(figsize=(15, 6))\n",
    "barWidth = 0.17\n",
    "\n",
    "# Bar heights\n",
    "bars1 = results['Accuracy : Test']\n",
    "bars2 = results['F1 Score : Test']\n",
    "\n",
    "# Bar positions\n",
    "r1 = np.arange(len(bars1))\n",
    "r2 = [x + barWidth for x in r1]\n",
    "\n",
    "# Colors\n",
    "pal = sns.color_palette()\n",
    "\n",
    "# Plot bars\n",
    "plt.bar(r1, bars1, color=pal[0], width=barWidth, edgecolor='white', label='Accuracy')\n",
    "plt.bar(r2, bars2, color=pal[1], width=barWidth, edgecolor='white', label='F1 Score')\n",
    "\n",
    "# X-tick labels in the center of grouped bars\n",
    "plt.xticks([r + barWidth / 2 for r in range(len(bars1))], results['Algorithm'], rotation=45)\n",
    "\n",
    "# Add legend and labels\n",
    "plt.xlabel('Models')\n",
    "plt.ylabel('Score')\n",
    "plt.title('Model Comparison: Accuracy vs F1 Score')\n",
    "plt.legend()\n",
    "\n",
    "# Show the plot\n",
    "plt.tight_layout()\n",
    "plt.show()\n"
   ]
  },
  {
   "cell_type": "code",
   "execution_count": 36,
   "id": "ebbebf33-1359-417b-8efd-8bfe33694669",
   "metadata": {},
   "outputs": [
    {
     "data": {
      "text/plain": [
       "Text(0.5, 1.0, 'Training and Prediction time of Algorithms')"
      ]
     },
     "execution_count": 36,
     "metadata": {},
     "output_type": "execute_result"
    },
    {
     "data": {
      "image/png": "[encoded data removed]",
      "text/plain": [
       "<Figure size 1200x700 with 1 Axes>"
      ]
     },
     "metadata": {},
     "output_type": "display_data"
    }
   ],
   "source": [
    "best_train_time = results[results['Training Time'] == results['Training Time'].min()]\n",
    "worst_train_time = results[results['Training Time'] == results['Training Time'].max()]\n",
    "best_prediction_time = results[results['Prediction Time'] == results['Prediction Time'].min()]\n",
    "worst_prediction_time = results[results['Prediction Time'] == results['Prediction Time'].max()]\n",
    "\n",
    "plt.figure(figsize = (12, 7))\n",
    "\n",
    "barWidth = 0.17\n",
    " \n",
    "# set height of bar\n",
    "bars1 = results['Training Time']\n",
    "bars2 = results['Prediction Time']\n",
    " \n",
    "# Set position of bar on X axis\n",
    "r1 = np.arange(len(bars1))\n",
    "r2 = [x + barWidth for x in r1]\n",
    " \n",
    "# Make the plot\n",
    "plt.bar(r1, bars1, color= pal[0], width=barWidth, edgecolor='white', label='Training Time')\n",
    "plt.bar(r2, bars2, color= pal[1], width=barWidth, edgecolor='white', label='Prediction Time')\n",
    " \n",
    "# Add xticks on the middle of the group bars\n",
    "plt.xlabel('Algorithm', fontweight='bold', fontsize = 13)\n",
    "plt.ylabel('Time (seconds)', fontweight = 'bold', fontsize = 13)\n",
    "plt.xticks([r + barWidth for r in range(len(bars1))], results['Algorithm'], rotation = 15, fontsize = 11)\n",
    "\n",
    "\n",
    "textstr = '\\n'.join(('Best Training Time: {:.3f} - {}'.format(best_train_time['Training Time'].values[0], best_train_time['Algorithm'].values[0]), \n",
    "                     'Worst Training Time: {:.3f} - {}'.format(worst_train_time['Training Time'].values[0], worst_train_time['Algorithm'].values[0]),\n",
    "                   'Best Prediction Time: {:.3f} - {}'.format(best_prediction_time['Training Time'].values[0], best_prediction_time['Algorithm'].values[0]), \n",
    "                    'Worst Prediction Time: {:.3f} - {}'.format(worst_prediction_time['Training Time'].values[0], worst_prediction_time['Algorithm'].values[0])))\n",
    "props = dict(boxstyle='round', facecolor='lightgrey', alpha=0.5)\n",
    "\n",
    "#place a text box\n",
    "plt.text(3.2, 12, textstr, fontsize=14,  bbox=props) \n",
    "\n",
    "# Create legend & Show graphic\n",
    "plt.legend(fontsize = 13)\n",
    "plt.title('Training and Prediction time of Algorithms', fontweight = 'bold', fontsize = 17)"
   ]
  },
  {
   "cell_type": "code",
   "execution_count": 37,
   "id": "6e1b440d-feb4-4e0b-8b73-f854ef3c33e1",
   "metadata": {},
   "outputs": [
    {
     "data": {
      "text/html": [
       "<div>\n",
       "<style scoped>\n",
       "    .dataframe tbody tr th:only-of-type {\n",
       "        vertical-align: middle;\n",
       "    }\n",
       "\n",
       "    .dataframe tbody tr th {\n",
       "        vertical-align: top;\n",
       "    }\n",
       "\n",
       "    .dataframe thead th {\n",
       "        text-align: right;\n",
       "    }\n",
       "</style>\n",
       "<table border=\"1\" class=\"dataframe\">\n",
       "  <thead>\n",
       "    <tr style=\"text-align: right;\">\n",
       "      <th></th>\n",
       "      <th>headline</th>\n",
       "      <th>label</th>\n",
       "      <th>length_headline</th>\n",
       "    </tr>\n",
       "  </thead>\n",
       "  <tbody>\n",
       "    <tr>\n",
       "      <th>0</th>\n",
       "      <td>cock  suck before you piss around on my work</td>\n",
       "      <td>1</td>\n",
       "      <td>44</td>\n",
       "    </tr>\n",
       "    <tr>\n",
       "      <th>1</th>\n",
       "      <td>you are  gay or antisemmitian archangel white ...</td>\n",
       "      <td>1</td>\n",
       "      <td>624</td>\n",
       "    </tr>\n",
       "    <tr>\n",
       "      <th>2</th>\n",
       "      <td>fuck your filthy mother in the ass  dry</td>\n",
       "      <td>1</td>\n",
       "      <td>39</td>\n",
       "    </tr>\n",
       "    <tr>\n",
       "      <th>3</th>\n",
       "      <td>get fuck  ed up  get fuck  ed up got a drink t...</td>\n",
       "      <td>1</td>\n",
       "      <td>121</td>\n",
       "    </tr>\n",
       "    <tr>\n",
       "      <th>4</th>\n",
       "      <td>stupid peace of  shit  stop deleting my stuff ...</td>\n",
       "      <td>1</td>\n",
       "      <td>93</td>\n",
       "    </tr>\n",
       "  </tbody>\n",
       "</table>\n",
       "</div>"
      ],
      "text/plain": [
       "                                            headline  label  length_headline\n",
       "0       cock  suck before you piss around on my work      1               44\n",
       "1  you are  gay or antisemmitian archangel white ...      1              624\n",
       "2            fuck your filthy mother in the ass  dry      1               39\n",
       "3  get fuck  ed up  get fuck  ed up got a drink t...      1              121\n",
       "4  stupid peace of  shit  stop deleting my stuff ...      1               93"
      ]
     },
     "execution_count": 37,
     "metadata": {},
     "output_type": "execute_result"
    }
   ],
   "source": [
    "df.head()\n"
   ]
  },
  {
   "cell_type": "code",
   "execution_count": 38,
   "id": "8e212627-01f9-48b4-a0dd-6d7fa99ce816",
   "metadata": {},
   "outputs": [
    {
     "name": "stdout",
     "output_type": "stream",
     "text": [
      "[0]\n",
      "non-bulling\n"
     ]
    },
    {
     "name": "stderr",
     "output_type": "stream",
     "text": [
      "/Library/Frameworks/Python.framework/Versions/3.11/lib/python3.11/site-packages/sklearn/feature_extraction/text.py:402: UserWarning: Your stop_words may be inconsistent with your preprocessing. Tokenizing the stop words generated tokens ['ninad'] not in stop_words.\n",
      "  warnings.warn(\n"
     ]
    }
   ],
   "source": [
    "data = [\"You are so beautiful\"]\n",
    "\n",
    "tfidf_vector = TfidfVectorizer(stop_words=content_list, lowercase=True, vocabulary=pickle.load(open(\"tfidfvectoizer.pkl\", \"rb\")))\n",
    "preprocessed_data = tfidf_vector.fit_transform(data)\n",
    "\n",
    "trained_model = pickle.load(open('LinearSVC.pkl', 'rb'))\n",
    "print(trained_model.predict(preprocessed_data))\n",
    "\n",
    "if(trained_model.predict(preprocessed_data)==1):\n",
    "    print(\"bulling\")\n",
    "else:\n",
    "    print(\"non-bulling\")"
   ]
  },
  {
   "cell_type": "code",
   "execution_count": 39,
   "id": "8923548c-1578-4742-b9b7-cf3a5c86602a",
   "metadata": {},
   "outputs": [],
   "source": [
    "from sklearn.model_selection import GridSearchCV\n",
    "\n",
    "def tuining(clf, param_dict, X_train, y_train, X_test, y_test):\n",
    "    scorer = make_scorer(f1_score)\n",
    "    \n",
    "    grid_obj = GridSearchCV(estimator=clf, param_grid=param_dict, scoring=scorer, cv=5)\n",
    "    \n",
    "    grid_fit = grid_obj.fit(X_train, y_train)\n",
    "    \n",
    "    best_clf = grid_fit.best_estimator_\n",
    "    \n",
    "    prediction = (clf.fit(X_train, y_train)).predict(X_test)\n",
    "    \n",
    "    best_prediction = best_clf.predict(X_test)\n",
    "    \n",
    "    print(clf.__class__.__name__)\n",
    "    print(f\"Best Parameter:  {grid_fit.best_params_}\")\n",
    "    \n",
    "    print(f\"Accuracy:  {accuracy_score(y_test, best_prediction)}\")\n",
    "\n",
    "    print(f\"F1 Score :  {f1_score(y_test, best_prediction)}\")\n",
    "    \n",
    "    print(f\"Precision :  {precision_score(y_test, best_prediction)}\")\n",
    "    \n",
    "    print(f\"Recall:  {recall_score(y_test, best_prediction)}\")"
   ]
  },
  {
   "cell_type": "code",
   "execution_count": 40,
   "id": "bfd252f0-3cab-410a-9b36-5eda0c99e42d",
   "metadata": {},
   "outputs": [
    {
     "name": "stdout",
     "output_type": "stream",
     "text": [
      "LinearSVC\n",
      "Best Parameter:  {'C': 1}\n",
      "Accuracy:  0.9647382920110192\n",
      "F1 Score :  0.9726904203114999\n",
      "Precision :  0.9739371929074984\n",
      "Recall:  0.9714468357127637\n"
     ]
    }
   ],
   "source": [
    "param_grid = {\n",
    "    'C': [0.25, 0.5, 0.75, 1, 1.2]\n",
    "}\n",
    "\n",
    "clf_model = LinearSVC()\n",
    "\n",
    "tuining(clf_model, param_grid, training_data, y_train, testing_data, y_test)"
   ]
  },
  {
   "cell_type": "code",
   "execution_count": 41,
   "id": "17a62bb0-12e6-4fed-a25d-4f122ed2cf4b",
   "metadata": {},
   "outputs": [],
   "source": [
    "pickle.dump(clf_model, open(\"LinearSVCTuned.pkl\", \"wb\"))\n"
   ]
  },
  {
   "cell_type": "code",
   "execution_count": null,
   "id": "4768bfda-707b-4639-ac99-59b683c3faa9",
   "metadata": {},
   "outputs": [],
   "source": []
  }
 ],
 "metadata": {
  "kernelspec": {
   "display_name": "Python 3 (ipykernel)",
   "language": "python",
   "name": "python3"
  },
  "language_info": {
   "codemirror_mode": {
    "name": "ipython",
    "version": 3
   },
   "file_extension": ".py",
   "mimetype": "text/x-python",
   "name": "python",
   "nbconvert_exporter": "python",
   "pygments_lexer": "ipython3",
   "version": "3.11.9"
  }
 },
 "nbformat": 4,
 "nbformat_minor": 5
}
